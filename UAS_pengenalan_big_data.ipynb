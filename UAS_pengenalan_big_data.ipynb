{
 "cells": [
  {
   "cell_type": "markdown",
   "metadata": {},
   "source": [
    "## Project Big Data Analytic (Scraping, Prepocessing, dan Visualisasi dataset )"
   ]
  },
  {
   "cell_type": "markdown",
   "metadata": {},
   "source": [
    "#### MUANSYAH ALAMI ROBBI\n",
    "#### 185410172"
   ]
  },
  {
   "cell_type": "markdown",
   "metadata": {},
   "source": [
    "# Import Library and load Data"
   ]
  },
  {
   "cell_type": "markdown",
   "metadata": {},
   "source": [
    "Dataset diperoleh dari hasil scrapping pada twitter dengan twitter scraper. Yang diambil pada bulan juni 2020.\n",
    "<br>Install twitterscrapper → apabila belum ada. <br>Buka cmd/terminal dan Gunakan perintah `pip install twitterscraper` \n",
    "<img src=scraping.png >\n",
    "</img>"
   ]
  },
  {
   "cell_type": "code",
   "execution_count": 17,
   "metadata": {
    "ExecuteTime": {
     "end_time": "2019-01-12T02:28:25.447761Z",
     "start_time": "2019-01-12T02:28:25.444051Z"
    }
   },
   "outputs": [],
   "source": [
    "import pandas as pd\n",
    "data=pd.read_csv('isu pki.csv', escapechar='\\\\')"
   ]
  },
  {
   "cell_type": "markdown",
   "metadata": {},
   "source": [
    "Setelah datanya berhasil dibaca, lalu kita Melihat datanya (eksplorasi data) \n",
    "seperti apa datanya, \n",
    "apa aja kolomnya, \n",
    "mana yang data kategorik,  \n",
    "mana variabel X (prediktor),\n",
    "mana variabel y (target)."
   ]
  },
  {
   "cell_type": "markdown",
   "metadata": {},
   "source": [
    "untuk datanya bisa diunduh <a href='isu pki.csv'>disini</a>"
   ]
  },
  {
   "cell_type": "code",
   "execution_count": 18,
   "metadata": {
    "ExecuteTime": {
     "end_time": "2019-01-12T02:28:26.167477Z",
     "start_time": "2019-01-12T02:28:26.161840Z"
    }
   },
   "outputs": [
    {
     "data": {
      "text/plain": [
       "(100, 3)"
      ]
     },
     "execution_count": 18,
     "metadata": {},
     "output_type": "execute_result"
    }
   ],
   "source": [
    "## melihat seberapa banyak datanya\n",
    "data.shape"
   ]
  },
  {
   "cell_type": "code",
   "execution_count": 19,
   "metadata": {
    "ExecuteTime": {
     "end_time": "2019-01-12T02:28:26.482481Z",
     "start_time": "2019-01-12T02:28:26.465655Z"
    }
   },
   "outputs": [
    {
     "data": {
      "text/html": [
       "<div>\n",
       "<style scoped>\n",
       "    .dataframe tbody tr th:only-of-type {\n",
       "        vertical-align: middle;\n",
       "    }\n",
       "\n",
       "    .dataframe tbody tr th {\n",
       "        vertical-align: top;\n",
       "    }\n",
       "\n",
       "    .dataframe thead th {\n",
       "        text-align: right;\n",
       "    }\n",
       "</style>\n",
       "<table border=\"1\" class=\"dataframe\">\n",
       "  <thead>\n",
       "    <tr style=\"text-align: right;\">\n",
       "      <th></th>\n",
       "      <th>sentiment</th>\n",
       "      <th>text</th>\n",
       "      <th>user</th>\n",
       "    </tr>\n",
       "  </thead>\n",
       "  <tbody>\n",
       "    <tr>\n",
       "      <th>0</th>\n",
       "      <td>neutral</td>\n",
       "      <td>Dituding Mainkan Isu PKI, Haikal Hassan Sumpah...</td>\n",
       "      <td>04_adisetiawan</td>\n",
       "    </tr>\n",
       "    <tr>\n",
       "      <th>1</th>\n",
       "      <td>neutral</td>\n",
       "      <td>@NgkongRoses @haikal_hassan Memang semua sdh d...</td>\n",
       "      <td>Heras_24</td>\n",
       "    </tr>\n",
       "    <tr>\n",
       "      <th>2</th>\n",
       "      <td>neutral</td>\n",
       "      <td>@WahabisLokal @woelannnn Sy anti PKI dan HTI /...</td>\n",
       "      <td>Bowieu22</td>\n",
       "    </tr>\n",
       "  </tbody>\n",
       "</table>\n",
       "</div>"
      ],
      "text/plain": [
       "  sentiment                                               text            user\n",
       "0   neutral  Dituding Mainkan Isu PKI, Haikal Hassan Sumpah...  04_adisetiawan\n",
       "1   neutral  @NgkongRoses @haikal_hassan Memang semua sdh d...        Heras_24\n",
       "2   neutral  @WahabisLokal @woelannnn Sy anti PKI dan HTI /...        Bowieu22"
      ]
     },
     "execution_count": 19,
     "metadata": {},
     "output_type": "execute_result"
    }
   ],
   "source": [
    "# ambil 3 data dari paling atas\n",
    "data.head(3)"
   ]
  },
  {
   "cell_type": "code",
   "execution_count": 20,
   "metadata": {
    "ExecuteTime": {
     "end_time": "2019-01-12T02:28:26.728005Z",
     "start_time": "2019-01-12T02:28:26.711208Z"
    }
   },
   "outputs": [
    {
     "data": {
      "text/html": [
       "<div>\n",
       "<style scoped>\n",
       "    .dataframe tbody tr th:only-of-type {\n",
       "        vertical-align: middle;\n",
       "    }\n",
       "\n",
       "    .dataframe tbody tr th {\n",
       "        vertical-align: top;\n",
       "    }\n",
       "\n",
       "    .dataframe thead th {\n",
       "        text-align: right;\n",
       "    }\n",
       "</style>\n",
       "<table border=\"1\" class=\"dataframe\">\n",
       "  <thead>\n",
       "    <tr style=\"text-align: right;\">\n",
       "      <th></th>\n",
       "      <th>sentiment</th>\n",
       "      <th>text</th>\n",
       "      <th>user</th>\n",
       "    </tr>\n",
       "  </thead>\n",
       "  <tbody>\n",
       "    <tr>\n",
       "      <th>97</th>\n",
       "      <td>negative</td>\n",
       "      <td>RT @HMSoeharto1921: Mencuatnya isu \"Pak Harto ...</td>\n",
       "      <td>Wawan31941702</td>\n",
       "    </tr>\n",
       "    <tr>\n",
       "      <th>98</th>\n",
       "      <td>neutral</td>\n",
       "      <td>RT @WahabisLokal: (Gatot) PKInnAliasnKadrun Ga...</td>\n",
       "      <td>herwatoe</td>\n",
       "    </tr>\n",
       "    <tr>\n",
       "      <th>99</th>\n",
       "      <td>neutral</td>\n",
       "      <td>RT @WahabisLokal: (Gatot) PKInnAliasnKadrun Ga...</td>\n",
       "      <td>hate_HTi</td>\n",
       "    </tr>\n",
       "  </tbody>\n",
       "</table>\n",
       "</div>"
      ],
      "text/plain": [
       "   sentiment                                               text           user\n",
       "97  negative  RT @HMSoeharto1921: Mencuatnya isu \"Pak Harto ...  Wawan31941702\n",
       "98   neutral  RT @WahabisLokal: (Gatot) PKInnAliasnKadrun Ga...       herwatoe\n",
       "99   neutral  RT @WahabisLokal: (Gatot) PKInnAliasnKadrun Ga...       hate_HTi"
      ]
     },
     "execution_count": 20,
     "metadata": {},
     "output_type": "execute_result"
    }
   ],
   "source": [
    "# ambil 3 data dari paling bawah\n",
    "data.tail(3)"
   ]
  },
  {
   "cell_type": "code",
   "execution_count": 21,
   "metadata": {
    "ExecuteTime": {
     "end_time": "2019-01-12T02:28:26.940688Z",
     "start_time": "2019-01-12T02:28:26.920105Z"
    }
   },
   "outputs": [
    {
     "data": {
      "text/html": [
       "<div>\n",
       "<style scoped>\n",
       "    .dataframe tbody tr th:only-of-type {\n",
       "        vertical-align: middle;\n",
       "    }\n",
       "\n",
       "    .dataframe tbody tr th {\n",
       "        vertical-align: top;\n",
       "    }\n",
       "\n",
       "    .dataframe thead th {\n",
       "        text-align: right;\n",
       "    }\n",
       "</style>\n",
       "<table border=\"1\" class=\"dataframe\">\n",
       "  <thead>\n",
       "    <tr style=\"text-align: right;\">\n",
       "      <th></th>\n",
       "      <th>sentiment</th>\n",
       "      <th>text</th>\n",
       "      <th>user</th>\n",
       "    </tr>\n",
       "  </thead>\n",
       "  <tbody>\n",
       "    <tr>\n",
       "      <th>82</th>\n",
       "      <td>neutral</td>\n",
       "      <td>RT @DTanjung15: Apa kabar Jongos2 bayaran Ketu...</td>\n",
       "      <td>Eddoludwig1</td>\n",
       "    </tr>\n",
       "    <tr>\n",
       "      <th>0</th>\n",
       "      <td>neutral</td>\n",
       "      <td>Dituding Mainkan Isu PKI, Haikal Hassan Sumpah...</td>\n",
       "      <td>04_adisetiawan</td>\n",
       "    </tr>\n",
       "    <tr>\n",
       "      <th>12</th>\n",
       "      <td>neutral</td>\n",
       "      <td>RT @DTanjung15: Apa kabar Jongos2 bayaran Ketu...</td>\n",
       "      <td>HasanUm19277820</td>\n",
       "    </tr>\n",
       "    <tr>\n",
       "      <th>29</th>\n",
       "      <td>neutral</td>\n",
       "      <td>RT @WahabisLokal: (Gatot) PKInnAliasnKadrun Ga...</td>\n",
       "      <td>lokbin103</td>\n",
       "    </tr>\n",
       "    <tr>\n",
       "      <th>27</th>\n",
       "      <td>neutral</td>\n",
       "      <td>RT @BuanaEzi: Isu pki begitu gencar disuarakan...</td>\n",
       "      <td>CintaNusan</td>\n",
       "    </tr>\n",
       "  </tbody>\n",
       "</table>\n",
       "</div>"
      ],
      "text/plain": [
       "   sentiment                                               text  \\\n",
       "82   neutral  RT @DTanjung15: Apa kabar Jongos2 bayaran Ketu...   \n",
       "0    neutral  Dituding Mainkan Isu PKI, Haikal Hassan Sumpah...   \n",
       "12   neutral  RT @DTanjung15: Apa kabar Jongos2 bayaran Ketu...   \n",
       "29   neutral  RT @WahabisLokal: (Gatot) PKInnAliasnKadrun Ga...   \n",
       "27   neutral  RT @BuanaEzi: Isu pki begitu gencar disuarakan...   \n",
       "\n",
       "               user  \n",
       "82      Eddoludwig1  \n",
       "0    04_adisetiawan  \n",
       "12  HasanUm19277820  \n",
       "29        lokbin103  \n",
       "27       CintaNusan  "
      ]
     },
     "execution_count": 21,
     "metadata": {},
     "output_type": "execute_result"
    }
   ],
   "source": [
    "#ambil data secara acak sebanyak 5 data\n",
    "data.sample(5)"
   ]
  },
  {
   "cell_type": "code",
   "execution_count": 22,
   "metadata": {
    "ExecuteTime": {
     "end_time": "2019-01-12T02:28:27.373486Z",
     "start_time": "2019-01-12T02:28:27.163266Z"
    }
   },
   "outputs": [
    {
     "data": {
      "text/html": [
       "<div>\n",
       "<style scoped>\n",
       "    .dataframe tbody tr th:only-of-type {\n",
       "        vertical-align: middle;\n",
       "    }\n",
       "\n",
       "    .dataframe tbody tr th {\n",
       "        vertical-align: top;\n",
       "    }\n",
       "\n",
       "    .dataframe thead th {\n",
       "        text-align: right;\n",
       "    }\n",
       "</style>\n",
       "<table border=\"1\" class=\"dataframe\">\n",
       "  <thead>\n",
       "    <tr style=\"text-align: right;\">\n",
       "      <th></th>\n",
       "      <th>sentiment</th>\n",
       "      <th>text</th>\n",
       "      <th>user</th>\n",
       "    </tr>\n",
       "  </thead>\n",
       "  <tbody>\n",
       "    <tr>\n",
       "      <th>count</th>\n",
       "      <td>100</td>\n",
       "      <td>100</td>\n",
       "      <td>100</td>\n",
       "    </tr>\n",
       "    <tr>\n",
       "      <th>unique</th>\n",
       "      <td>3</td>\n",
       "      <td>43</td>\n",
       "      <td>94</td>\n",
       "    </tr>\n",
       "    <tr>\n",
       "      <th>top</th>\n",
       "      <td>neutral</td>\n",
       "      <td>RT @WahabisLokal: (Gatot) PKInnAliasnKadrun Ga...</td>\n",
       "      <td>Dediteulih_2016</td>\n",
       "    </tr>\n",
       "    <tr>\n",
       "      <th>freq</th>\n",
       "      <td>90</td>\n",
       "      <td>18</td>\n",
       "      <td>2</td>\n",
       "    </tr>\n",
       "  </tbody>\n",
       "</table>\n",
       "</div>"
      ],
      "text/plain": [
       "       sentiment                                               text  \\\n",
       "count        100                                                100   \n",
       "unique         3                                                 43   \n",
       "top      neutral  RT @WahabisLokal: (Gatot) PKInnAliasnKadrun Ga...   \n",
       "freq          90                                                 18   \n",
       "\n",
       "                   user  \n",
       "count               100  \n",
       "unique               94  \n",
       "top     Dediteulih_2016  \n",
       "freq                  2  "
      ]
     },
     "execution_count": 22,
     "metadata": {},
     "output_type": "execute_result"
    }
   ],
   "source": [
    "#datanya secara deskriptif\n",
    "data.describe()"
   ]
  },
  {
   "cell_type": "code",
   "execution_count": 23,
   "metadata": {
    "ExecuteTime": {
     "end_time": "2019-01-12T02:28:27.457737Z",
     "start_time": "2019-01-12T02:28:27.449645Z"
    }
   },
   "outputs": [
    {
     "data": {
      "text/plain": [
       "Index(['sentiment', 'text', 'user'], dtype='object')"
      ]
     },
     "execution_count": 23,
     "metadata": {},
     "output_type": "execute_result"
    }
   ],
   "source": [
    "#melihat kolom yang ada\n",
    "data.columns"
   ]
  },
  {
   "cell_type": "code",
   "execution_count": 24,
   "metadata": {
    "ExecuteTime": {
     "end_time": "2019-01-12T02:28:28.080686Z",
     "start_time": "2019-01-12T02:28:28.069031Z"
    }
   },
   "outputs": [
    {
     "data": {
      "text/plain": [
       "neutral     90\n",
       "negative     9\n",
       "positive     1\n",
       "Name: sentiment, dtype: int64"
      ]
     },
     "execution_count": 24,
     "metadata": {},
     "output_type": "execute_result"
    }
   ],
   "source": [
    "# menghitung variabel katogorik pada kolom Is_Response\n",
    "data['sentiment'].value_counts()"
   ]
  },
  {
   "cell_type": "code",
   "execution_count": 88,
   "metadata": {
    "ExecuteTime": {
     "end_time": "2019-01-12T02:29:31.514484Z",
     "start_time": "2019-01-12T02:29:31.504896Z"
    }
   },
   "outputs": [],
   "source": [
    "# mengubah data kategorik happy menjadi baik, dan not happy menjadi buruk\n",
    "data['sentiment']=data['sentiment'].map({'positive':'baik','negative':'buruk', 'nuetral':'netral'})"
   ]
  },
  {
   "cell_type": "code",
   "execution_count": 89,
   "metadata": {
    "ExecuteTime": {
     "end_time": "2019-01-12T02:29:31.721831Z",
     "start_time": "2019-01-12T02:29:31.708332Z"
    }
   },
   "outputs": [
    {
     "data": {
      "text/plain": [
       "Series([], Name: sentiment, dtype: int64)"
      ]
     },
     "execution_count": 89,
     "metadata": {},
     "output_type": "execute_result"
    }
   ],
   "source": [
    "# kita lihat lagi nilai pada is_response apakah sudah berubah ?\n",
    "data['sentiment'].value_counts()\n",
    "#ternyata sudah"
   ]
  },
  {
   "cell_type": "markdown",
   "metadata": {},
   "source": [
    "Setelah kita tahu, bentuk dari datanya, dan variabel yang digunakan, dimana var X nya adalah kolom `user`, kemudian var y nya adalah kolom `sentiment`"
   ]
  },
  {
   "cell_type": "markdown",
   "metadata": {},
   "source": [
    "# Create Train_test\n",
    "Setelah melakukan langkah di atas, maka selanjutnya adalah memisahkan data `latih` dan data `uji`, untuk memisahkananya, disini menggunakan pustaka `sklearn ~ train test split`"
   ]
  },
  {
   "cell_type": "code",
   "execution_count": 90,
   "metadata": {
    "ExecuteTime": {
     "end_time": "2019-01-12T02:29:35.560355Z",
     "start_time": "2019-01-12T02:29:34.449802Z"
    }
   },
   "outputs": [],
   "source": [
    "from sklearn.model_selection import train_test_split"
   ]
  },
  {
   "cell_type": "code",
   "execution_count": 113,
   "metadata": {
    "ExecuteTime": {
     "end_time": "2019-01-12T02:42:10.326973Z",
     "start_time": "2019-01-12T02:42:10.320534Z"
    }
   },
   "outputs": [],
   "source": [
    "X=data.sentiment\n",
    "y=data.user"
   ]
  },
  {
   "cell_type": "markdown",
   "metadata": {},
   "source": [
    "disini kita mulai memisahkan untuk data train dan test, dimana `x_train, x_test, y_train, y_test` ,  merupakan variabel yang akan digunakan untuk membuat model nantinya, dan `train_test_split` merupakan fungsi untuk memisahkan data dari variabel `(X,y,`, dimana pembagiannya adalah 90% (train) :10% (test) sehingga nilai `test_size` nya dalah `0.1`"
   ]
  },
  {
   "cell_type": "code",
   "execution_count": 114,
   "metadata": {
    "ExecuteTime": {
     "end_time": "2019-01-12T02:42:13.095947Z",
     "start_time": "2019-01-12T02:42:13.052219Z"
    }
   },
   "outputs": [],
   "source": [
    "x_train, x_test, y_train, y_test = train_test_split(X,y,test_size=0.1, random_state=225)"
   ]
  },
  {
   "cell_type": "markdown",
   "metadata": {},
   "source": [
    "Setelah memisahkan kita dapat melihat pembagian dari masing-masing data di `x_train, x_test, y_train, y_test`"
   ]
  },
  {
   "cell_type": "code",
   "execution_count": 115,
   "metadata": {
    "ExecuteTime": {
     "end_time": "2019-01-12T02:45:06.381285Z",
     "start_time": "2019-01-12T02:45:06.372371Z"
    }
   },
   "outputs": [
    {
     "name": "stdout",
     "output_type": "stream",
     "text": [
      "Banyak data x_train : 90\n",
      "Banyak data x_test  : 10\n",
      "Banyak data y_train : 90\n",
      "Banyak data y_test  : 10\n"
     ]
    }
   ],
   "source": [
    "print('Banyak data x_train :',len(x_train))\n",
    "print('Banyak data x_test  :',len(x_test))\n",
    "print('Banyak data y_train :',len(y_train))\n",
    "print('Banyak data y_test  :',len(y_test))"
   ]
  },
  {
   "cell_type": "markdown",
   "metadata": {},
   "source": [
    "# Text Preprocessing\n",
    "preprosesing disini adalah melakukan, cleaning data teks dengan menghapus kata kata yang tidakpenting yang tidak termsuk dalam konteks, contohnya adalah seperti berikut."
   ]
  },
  {
   "cell_type": "code",
   "execution_count": 116,
   "metadata": {
    "ExecuteTime": {
     "end_time": "2019-01-12T07:44:52.829360Z",
     "start_time": "2019-01-12T07:44:52.814348Z"
    }
   },
   "outputs": [],
   "source": [
    "import re\n",
    "\n",
    "from bs4 import BeautifulSoup\n",
    "from nltk.tokenize import WordPunctTokenizer\n",
    "from nltk.corpus import stopwords\n",
    "\n",
    "\n",
    "tok = WordPunctTokenizer()\n",
    "pat1 = r'@[A-Za-z0-9_]+' #menghilangkan username jika twitter\n",
    "pat2 = r'https?://[^ ]+' #menghilangkan situs website\n",
    "combined_pat = r'|'.join((pat1, pat2)) #join pat1 dan pat 2\n",
    "www_pat = r'www.[^ ]+' #menhilangkan situs website\n",
    "\n",
    "#set_stopword yang di deskripsikan sendiri\n",
    "stopword_user = set(data)\n"
   ]
  },
  {
   "cell_type": "code",
   "execution_count": 117,
   "metadata": {
    "ExecuteTime": {
     "end_time": "2019-01-12T07:45:30.662530Z",
     "start_time": "2019-01-12T07:45:30.652253Z"
    },
    "code_folding": []
   },
   "outputs": [],
   "source": [
    "def proses_teks(teks):\n",
    "    soup = BeautifulSoup(teks, 'lxml')\n",
    "    souped = soup.get_text()\n",
    "    try:\n",
    "        teks = souped.decode(\"utf-8-sig\").replace(u\"\\ufffd\", \"?\",'|')\n",
    "    except:\n",
    "        teks = souped\n",
    "    teks_bersih= re.sub(\"[^a-zA-Z0-9]\", \" \",(re.sub(www_pat, '', re.sub(combined_pat, '', teks)).lower()))\n",
    "    teks_bersih= ' '.join([word for word in teks_bersih.split() if word not in stopword_user])\n",
    "    return (\" \".join([x for x in tok.tokenize(teks_bersih) if len(x) > 1])).strip()"
   ]
  },
  {
   "cell_type": "code",
   "execution_count": null,
   "metadata": {},
   "outputs": [],
   "source": []
  },
  {
   "cell_type": "code",
   "execution_count": 120,
   "metadata": {
    "ExecuteTime": {
     "end_time": "2019-01-12T04:52:30.859912Z",
     "start_time": "2019-01-12T04:52:12.479129Z"
    }
   },
   "outputs": [],
   "source": [
    "x=[]\n",
    "for teks in data.text:\n",
    "    x.append(proses_teks(teks))"
   ]
  },
  {
   "cell_type": "code",
   "execution_count": 121,
   "metadata": {
    "ExecuteTime": {
     "end_time": "2019-01-12T04:53:23.517593Z",
     "start_time": "2019-01-12T04:53:23.499749Z"
    }
   },
   "outputs": [],
   "source": [
    "clean_text=pd.DataFrame({'clean_text':x})"
   ]
  },
  {
   "cell_type": "code",
   "execution_count": 122,
   "metadata": {
    "ExecuteTime": {
     "end_time": "2019-01-12T04:56:41.932650Z",
     "start_time": "2019-01-12T04:56:41.910534Z"
    }
   },
   "outputs": [],
   "source": [
    "data=pd.concat([data,clean_text],axis=1)"
   ]
  },
  {
   "cell_type": "code",
   "execution_count": 123,
   "metadata": {
    "ExecuteTime": {
     "end_time": "2019-01-12T04:56:56.705861Z",
     "start_time": "2019-01-12T04:56:56.682658Z"
    }
   },
   "outputs": [
    {
     "data": {
      "text/html": [
       "<div>\n",
       "<style scoped>\n",
       "    .dataframe tbody tr th:only-of-type {\n",
       "        vertical-align: middle;\n",
       "    }\n",
       "\n",
       "    .dataframe tbody tr th {\n",
       "        vertical-align: top;\n",
       "    }\n",
       "\n",
       "    .dataframe thead th {\n",
       "        text-align: right;\n",
       "    }\n",
       "</style>\n",
       "<table border=\"1\" class=\"dataframe\">\n",
       "  <thead>\n",
       "    <tr style=\"text-align: right;\">\n",
       "      <th></th>\n",
       "      <th>sentiment</th>\n",
       "      <th>text</th>\n",
       "      <th>user</th>\n",
       "      <th>clean_text</th>\n",
       "      <th>clean_text</th>\n",
       "      <th>clean_text</th>\n",
       "      <th>clean_text</th>\n",
       "      <th>clean_text</th>\n",
       "      <th>clean_text</th>\n",
       "      <th>clean_text</th>\n",
       "    </tr>\n",
       "  </thead>\n",
       "  <tbody>\n",
       "    <tr>\n",
       "      <th>0</th>\n",
       "      <td>NaN</td>\n",
       "      <td>Dituding Mainkan Isu PKI, Haikal Hassan Sumpah...</td>\n",
       "      <td>04_adisetiawan</td>\n",
       "      <td>04 adisetiawan</td>\n",
       "      <td>04 adisetiawan</td>\n",
       "      <td>04 adisetiawan</td>\n",
       "      <td>dituding mainkan isu pki haikal hassan sumpah ...</td>\n",
       "      <td>dituding mainkan isu pki haikal hassan sumpah ...</td>\n",
       "      <td>dituding mainkan isu pki haikal hassan sumpah ...</td>\n",
       "      <td>dituding mainkan isu pki haikal hassan sumpah ...</td>\n",
       "    </tr>\n",
       "    <tr>\n",
       "      <th>1</th>\n",
       "      <td>NaN</td>\n",
       "      <td>@NgkongRoses @haikal_hassan Memang semua sdh d...</td>\n",
       "      <td>Heras_24</td>\n",
       "      <td>heras 24</td>\n",
       "      <td>heras 24</td>\n",
       "      <td>heras 24</td>\n",
       "      <td>memang semua sdh di skenario oleh kelompok mer...</td>\n",
       "      <td>memang semua sdh di skenario oleh kelompok mer...</td>\n",
       "      <td>memang semua sdh di skenario oleh kelompok mer...</td>\n",
       "      <td>memang semua sdh di skenario oleh kelompok mer...</td>\n",
       "    </tr>\n",
       "    <tr>\n",
       "      <th>2</th>\n",
       "      <td>NaN</td>\n",
       "      <td>@WahabisLokal @woelannnn Sy anti PKI dan HTI /...</td>\n",
       "      <td>Bowieu22</td>\n",
       "      <td>bowieu22</td>\n",
       "      <td>bowieu22</td>\n",
       "      <td>bowieu22</td>\n",
       "      <td>sy anti pki dan hti khilfah nnalhamdulillah is...</td>\n",
       "      <td>sy anti pki dan hti khilfah nnalhamdulillah is...</td>\n",
       "      <td>sy anti pki dan hti khilfah nnalhamdulillah is...</td>\n",
       "      <td>sy anti pki dan hti khilfah nnalhamdulillah is...</td>\n",
       "    </tr>\n",
       "    <tr>\n",
       "      <th>3</th>\n",
       "      <td>NaN</td>\n",
       "      <td>RT @WahabisLokal: (Gatot) PKInnAliasnKadrun Ga...</td>\n",
       "      <td>aretwett</td>\n",
       "      <td>aretwett</td>\n",
       "      <td>aretwett</td>\n",
       "      <td>aretwett</td>\n",
       "      <td>rt gatot pkinnaliasnkadrun gagal total angkat ...</td>\n",
       "      <td>rt gatot pkinnaliasnkadrun gagal total angkat ...</td>\n",
       "      <td>rt gatot pkinnaliasnkadrun gagal total angkat ...</td>\n",
       "      <td>rt gatot pkinnaliasnkadrun gagal total angkat ...</td>\n",
       "    </tr>\n",
       "    <tr>\n",
       "      <th>4</th>\n",
       "      <td>NaN</td>\n",
       "      <td>RT @MDR_08Ob2l: Anak² Yg Tumbuh Pasca-reform.n...</td>\n",
       "      <td>roon3651</td>\n",
       "      <td>roon3651</td>\n",
       "      <td>roon3651</td>\n",
       "      <td>roon3651</td>\n",
       "      <td>rt anak yg tumbuh pasca reform nsdh tdk mendap...</td>\n",
       "      <td>rt anak yg tumbuh pasca reform nsdh tdk mendap...</td>\n",
       "      <td>rt anak yg tumbuh pasca reform nsdh tdk mendap...</td>\n",
       "      <td>rt anak yg tumbuh pasca reform nsdh tdk mendap...</td>\n",
       "    </tr>\n",
       "  </tbody>\n",
       "</table>\n",
       "</div>"
      ],
      "text/plain": [
       "  sentiment                                               text  \\\n",
       "0       NaN  Dituding Mainkan Isu PKI, Haikal Hassan Sumpah...   \n",
       "1       NaN  @NgkongRoses @haikal_hassan Memang semua sdh d...   \n",
       "2       NaN  @WahabisLokal @woelannnn Sy anti PKI dan HTI /...   \n",
       "3       NaN  RT @WahabisLokal: (Gatot) PKInnAliasnKadrun Ga...   \n",
       "4       NaN  RT @MDR_08Ob2l: Anak² Yg Tumbuh Pasca-reform.n...   \n",
       "\n",
       "             user      clean_text      clean_text      clean_text  \\\n",
       "0  04_adisetiawan  04 adisetiawan  04 adisetiawan  04 adisetiawan   \n",
       "1        Heras_24        heras 24        heras 24        heras 24   \n",
       "2        Bowieu22        bowieu22        bowieu22        bowieu22   \n",
       "3        aretwett        aretwett        aretwett        aretwett   \n",
       "4        roon3651        roon3651        roon3651        roon3651   \n",
       "\n",
       "                                          clean_text  \\\n",
       "0  dituding mainkan isu pki haikal hassan sumpah ...   \n",
       "1  memang semua sdh di skenario oleh kelompok mer...   \n",
       "2  sy anti pki dan hti khilfah nnalhamdulillah is...   \n",
       "3  rt gatot pkinnaliasnkadrun gagal total angkat ...   \n",
       "4  rt anak yg tumbuh pasca reform nsdh tdk mendap...   \n",
       "\n",
       "                                          clean_text  \\\n",
       "0  dituding mainkan isu pki haikal hassan sumpah ...   \n",
       "1  memang semua sdh di skenario oleh kelompok mer...   \n",
       "2  sy anti pki dan hti khilfah nnalhamdulillah is...   \n",
       "3  rt gatot pkinnaliasnkadrun gagal total angkat ...   \n",
       "4  rt anak yg tumbuh pasca reform nsdh tdk mendap...   \n",
       "\n",
       "                                          clean_text  \\\n",
       "0  dituding mainkan isu pki haikal hassan sumpah ...   \n",
       "1  memang semua sdh di skenario oleh kelompok mer...   \n",
       "2  sy anti pki dan hti khilfah nnalhamdulillah is...   \n",
       "3  rt gatot pkinnaliasnkadrun gagal total angkat ...   \n",
       "4  rt anak yg tumbuh pasca reform nsdh tdk mendap...   \n",
       "\n",
       "                                          clean_text  \n",
       "0  dituding mainkan isu pki haikal hassan sumpah ...  \n",
       "1  memang semua sdh di skenario oleh kelompok mer...  \n",
       "2  sy anti pki dan hti khilfah nnalhamdulillah is...  \n",
       "3  rt gatot pkinnaliasnkadrun gagal total angkat ...  \n",
       "4  rt anak yg tumbuh pasca reform nsdh tdk mendap...  "
      ]
     },
     "execution_count": 123,
     "metadata": {},
     "output_type": "execute_result"
    }
   ],
   "source": [
    "data.head(5)"
   ]
  },
  {
   "cell_type": "markdown",
   "metadata": {},
   "source": [
    "# Visualisasi Dataset dengan Seaborn"
   ]
  },
  {
   "cell_type": "code",
   "execution_count": 125,
   "metadata": {},
   "outputs": [
    {
     "name": "stdout",
     "output_type": "stream",
     "text": [
      "  sentiment                                               text            user\n",
      "0   neutral  Dituding Mainkan Isu PKI, Haikal Hassan Sumpah...  04_adisetiawan\n",
      "1   neutral  @NgkongRoses @haikal_hassan Memang semua sdh d...        Heras_24\n",
      "2   neutral  @WahabisLokal @woelannnn Sy anti PKI dan HTI /...        Bowieu22\n",
      "3   neutral  RT @WahabisLokal: (Gatot) PKInnAliasnKadrun Ga...        aretwett\n",
      "4   neutral  RT @MDR_08Ob2l: Anak² Yg Tumbuh Pasca-reform.n...        roon3651\n"
     ]
    }
   ],
   "source": [
    "import numpy as np \n",
    "import pandas as pd \n",
    "import seaborn as sns \n",
    "import matplotlib.pyplot as plt\n",
    "%matplotlib inline\n",
    "\n",
    "sns.set()\n",
    "df=pd.read_csv('isu pki.csv',escapechar='\\\\')\n",
    "print(df.head(5))\n"
   ]
  },
  {
   "cell_type": "code",
   "execution_count": 126,
   "metadata": {},
   "outputs": [
    {
     "name": "stdout",
     "output_type": "stream",
     "text": [
      "<class 'pandas.core.frame.DataFrame'>\n",
      "RangeIndex: 100 entries, 0 to 99\n",
      "Data columns (total 3 columns):\n",
      "sentiment    100 non-null object\n",
      "text         100 non-null object\n",
      "user         100 non-null object\n",
      "dtypes: object(3)\n",
      "memory usage: 2.5+ KB\n"
     ]
    }
   ],
   "source": [
    "# menampilkan info dari dataset yang akan kita visualkan \n",
    "df.info()"
   ]
  },
  {
   "cell_type": "code",
   "execution_count": 147,
   "metadata": {},
   "outputs": [
    {
     "data": {
      "image/png": "[encoded data removed]",
      "text/plain": [
       "<Figure size 432x288 with 1 Axes>"
      ]
     },
     "metadata": {},
     "output_type": "display_data"
    }
   ],
   "source": [
    "#Menampilkan 2 variabel sentiment dan user dari dataset df dengan module scatterplot dari package seaborn \n",
    "ax=sns.scatterplot(x='sentiment',y='user',data=df)"
   ]
  },
  {
   "cell_type": "code",
   "execution_count": 133,
   "metadata": {},
   "outputs": [
    {
     "data": {
      "text/plain": [
       "<matplotlib.axes._subplots.AxesSubplot at 0x2565dae8308>"
      ]
     },
     "execution_count": 133,
     "metadata": {},
     "output_type": "execute_result"
    },
    {
     "data": {
      "image/png": "[encoded data removed]",
      "text/plain": [
       "<Figure size 432x288 with 1 Axes>"
      ]
     },
     "metadata": {},
     "output_type": "display_data"
    }
   ],
   "source": [
    "#Distribusi Normal  \n",
    "df = np.random.normal(size=100)\n",
    "sns.distplot(df)"
   ]
  },
  {
   "cell_type": "code",
   "execution_count": 135,
   "metadata": {},
   "outputs": [
    {
     "data": {
      "image/png": "[encoded data removed]",
      "text/plain": [
       "<Figure size 360x360 with 1 Axes>"
      ]
     },
     "metadata": {},
     "output_type": "display_data"
    }
   ],
   "source": [
    "df=pd.read_csv('isu pki.csv',escapechar='\\\\')\n",
    "az = sns.relplot(x=\"sentiment\", y=\"user\", data=df)"
   ]
  },
  {
   "cell_type": "markdown",
   "metadata": {},
   "source": [
    "### KESIMPULAN\n",
    "* Dari visualisasi sebanyak 100 data, sentiment terhadap <b>isu pki</b> pada twitter terdapat 3 respon negative, positive dan neutral. <BR>neutral     90\n",
    "<br>negative     9\n",
    "<br>positive     1\n",
    "+ Data hasil scraping/crawling harus di filter agar bisa diolah dan divisualkan.\n",
    "    "
   ]
  },
  {
   "cell_type": "markdown",
   "metadata": {},
   "source": [
    "atau bisa di cek di github saya [KaptenNemoo](https://github.com/KaptenNemoo/Big-Data-Analytic/blob/master/Pertemuan%2014.ipynb)"
   ]
  },
  {
   "cell_type": "code",
   "execution_count": null,
   "metadata": {},
   "outputs": [],
   "source": []
  }
 ],
 "metadata": {
  "hide_input": false,
  "kernelspec": {
   "display_name": "Python 3",
   "language": "python",
   "name": "python3"
  },
  "language_info": {
   "codemirror_mode": {
    "name": "ipython",
    "version": 3
   },
   "file_extension": ".py",
   "mimetype": "text/x-python",
   "name": "python",
   "nbconvert_exporter": "python",
   "pygments_lexer": "ipython3",
   "version": "3.7.6"
  },
  "toc": {
   "base_numbering": 1,
   "nav_menu": {},
   "number_sections": true,
   "sideBar": true,
   "skip_h1_title": false,
   "title_cell": "Table of Contents",
   "title_sidebar": "Contents",
   "toc_cell": false,
   "toc_position": {},
   "toc_section_display": true,
   "toc_window_display": false
  },
  "varInspector": {
   "cols": {
    "lenName": 16,
    "lenType": 16,
    "lenVar": 40
   },
   "kernels_config": {
    "python": {
     "delete_cmd_postfix": "",
     "delete_cmd_prefix": "del ",
     "library": "var_list.py",
     "varRefreshCmd": "print(var_dic_list())"
    },
    "r": {
     "delete_cmd_postfix": ") ",
     "delete_cmd_prefix": "rm(",
     "library": "var_list.r",
     "varRefreshCmd": "cat(var_dic_list()) "
    }
   },
   "types_to_exclude": [
    "module",
    "function",
    "builtin_function_or_method",
    "instance",
    "_Feature"
   ],
   "window_display": false
  }
 },
 "nbformat": 4,
 "nbformat_minor": 2
}
